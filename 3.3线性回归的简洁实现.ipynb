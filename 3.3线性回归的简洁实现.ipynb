{
 "cells": [
  {
   "cell_type": "markdown",
   "source": [
    "# 3.3 线性回归的简洁实现\n",
    "本节将介绍如何通过使用适度学习框架简洁地实现3.2节中的线性回归模型。"
   ],
   "metadata": {
    "collapsed": false
   },
   "id": "1b1f40c5360d65e9"
  },
  {
   "cell_type": "markdown",
   "source": [
    "### 3.3.1 生成数据集"
   ],
   "metadata": {
    "collapsed": false
   },
   "id": "7b5db37c3d8cabac"
  },
  {
   "cell_type": "code",
   "execution_count": 33,
   "id": "initial_id",
   "metadata": {
    "collapsed": true,
    "ExecuteTime": {
     "end_time": "2024-03-28T14:18:08.594823Z",
     "start_time": "2024-03-28T14:18:08.583270Z"
    }
   },
   "outputs": [],
   "source": [
    "import numpy as np\n",
    "import torch\n",
    "from torch.utils import data\n",
    "from d2l import torch as d2l"
   ]
  },
  {
   "cell_type": "code",
   "outputs": [],
   "source": [
    "true_w = torch.tensor([2,-3.4])\n",
    "true_b = 4.2\n",
    "features,labels = d2l.synthetic_data(true_w,true_b,1000)"
   ],
   "metadata": {
    "collapsed": false,
    "ExecuteTime": {
     "end_time": "2024-03-28T14:18:08.641956Z",
     "start_time": "2024-03-28T14:18:08.622057Z"
    }
   },
   "id": "b5b66311655d9bb0",
   "execution_count": 34
  },
  {
   "cell_type": "markdown",
   "source": [
    "synthetic是生成合成数据集的函数"
   ],
   "metadata": {
    "collapsed": false
   },
   "id": "3088e80291b65013"
  },
  {
   "cell_type": "markdown",
   "source": [
    "### 3.3.2 读取数据集\n",
    "可以调用框架中的API来读取数据。我们将features和labels作为API的参数传递，并通过数据迭代指定batch_size。此外，布尔值is_train表示是否希望数据迭代器对象在每轮内打乱顺序。"
   ],
   "metadata": {
    "collapsed": false
   },
   "id": "910f7a0d2b65067c"
  },
  {
   "cell_type": "code",
   "outputs": [],
   "source": [
    "def load_array(data_arrays,batch_size,is_train=True):\n",
    "    '''构造一个PyTorch数据迭代器'''\n",
    "    dataset = data.TensorDataset(*data_arrays)\n",
    "    return data.DataLoader(dataset,batch_size,shuffle=is_train)"
   ],
   "metadata": {
    "collapsed": false,
    "ExecuteTime": {
     "end_time": "2024-03-28T14:18:08.657314Z",
     "start_time": "2024-03-28T14:18:08.644114Z"
    }
   },
   "id": "8de5257ae72c6f0d",
   "execution_count": 35
  },
  {
   "cell_type": "code",
   "outputs": [
    {
     "data": {
      "text/plain": "[tensor([[ 1.0354,  0.7165],\n         [ 0.7684, -0.0820],\n         [ 0.4048, -0.2048],\n         [-0.2931, -0.0239],\n         [ 1.4231,  0.7826],\n         [-1.7001,  0.8905],\n         [-0.7775, -0.2788],\n         [-0.5847, -0.3615],\n         [-0.4652,  0.6528],\n         [ 1.5213, -0.2330]]),\n tensor([[ 3.8448],\n         [ 6.0181],\n         [ 5.7168],\n         [ 3.7006],\n         [ 4.3843],\n         [-2.2054],\n         [ 3.5766],\n         [ 4.2645],\n         [ 1.0590],\n         [ 8.0290]])]"
     },
     "execution_count": 36,
     "metadata": {},
     "output_type": "execute_result"
    }
   ],
   "source": [
    "batch_size = 10\n",
    "data_iter = load_array((features,labels),batch_size)\n",
    "next(iter(data_iter))"
   ],
   "metadata": {
    "collapsed": false,
    "ExecuteTime": {
     "end_time": "2024-03-28T14:18:08.672527Z",
     "start_time": "2024-03-28T14:18:08.659487Z"
    }
   },
   "id": "24d717f5182490d3",
   "execution_count": 36
  },
  {
   "cell_type": "markdown",
   "source": [
    "### 3.3.3 定义模型\n",
    "对于标准深度学习模型，我们可以定义一个模型变量net，它是一个Sequential类的实例。Sequential类为串联在一起的多个层定义了一个容器。当给定输入数据，Sequential实例将数据传入到第一层，然后将第一层的输出作为第二层的输入，依此类推。我们在构造模型时，我们在Sequential实例中传递一个OrderedDict。该OrderedDict中的每个元素将包含一个层的名称（任意），以及层本身。在下面的例子中，我们的线性模型只包含一个全连接层，因此实际上不需要Sequential。但是由于以后几乎所有模型都是多个层的，所以这里使用Sequential来熟悉标准的流程。<br>\n",
    "回顾3-2中的单层网络架构，这一单层称为<b>全连接层(fully-connected layer)</b>，应为它的每个输入都通过矩阵-向量乘法得到了它的输出。<br>\n",
    "在pytorch中，全连接层在Linear类中定义。值得注意的是，我们讲两个参数传递到nn.Linear中。第一个参数指定输入特征形状，即2.第二个参数指定输出特征形状，输出特征形状为单个标量，因此为1。"
   ],
   "metadata": {
    "collapsed": false
   },
   "id": "e75c71af3fa7abd9"
  },
  {
   "cell_type": "code",
   "outputs": [],
   "source": [
    "# nn是神经网络的缩写\n",
    "from torch import nn\n",
    "net = nn.Sequential(nn.Linear(2,1))"
   ],
   "metadata": {
    "collapsed": false,
    "ExecuteTime": {
     "end_time": "2024-03-28T14:18:08.687928Z",
     "start_time": "2024-03-28T14:18:08.676200Z"
    }
   },
   "id": "aa76eab483434712",
   "execution_count": 37
  },
  {
   "cell_type": "markdown",
   "source": [
    "### 3.3.4 初始化模型参数\n",
    "在使用net之前，我们需要初始化模型参数，如在线性回归模型中的权重和偏置。深度学习框架通常有预定义的方法和初始化参数。在这里，我们指定每个权重参数应该从均值为0、标准差为0.01的正态分布中随机采样，偏置参数初始化为0。<br>\n",
    "正如我们在构造nn.Linear是指定输入和输出的尺寸一样，现在我们能直接访问参数以设定它们的初始值。我们通过net[0]选择网络中的第一层，然后使用weight.data和bias.data方法访问参数。我们还可以使用替换方法normal_和fill_来重写参数值。<br>"
   ],
   "metadata": {
    "collapsed": false
   },
   "id": "31a59c327507f7f1"
  },
  {
   "cell_type": "code",
   "outputs": [
    {
     "data": {
      "text/plain": "tensor([0.])"
     },
     "execution_count": 38,
     "metadata": {},
     "output_type": "execute_result"
    }
   ],
   "source": [
    "net[0].weight.data.normal_(0,0.01)\n",
    "net[0].bias.data.fill_(0)"
   ],
   "metadata": {
    "collapsed": false,
    "ExecuteTime": {
     "end_time": "2024-03-28T14:18:08.703280Z",
     "start_time": "2024-03-28T14:18:08.689999Z"
    }
   },
   "id": "96954a0d662085b8",
   "execution_count": 38
  },
  {
   "cell_type": "markdown",
   "source": [
    "### 3.3.5 定义损失函数\n",
    "计算均方误差使用的是MSLoss类，其也称为平方l<sub>2/</sub>范数。默认情况下，它返回所有样本损失的平均值。"
   ],
   "metadata": {
    "collapsed": false
   },
   "id": "c3a26e59f3fc89f4"
  },
  {
   "cell_type": "code",
   "outputs": [],
   "source": [
    "loss = nn.MSELoss()"
   ],
   "metadata": {
    "collapsed": false,
    "ExecuteTime": {
     "end_time": "2024-03-28T14:18:08.718455Z",
     "start_time": "2024-03-28T14:18:08.705412Z"
    }
   },
   "id": "f6450d2fe8ae134f",
   "execution_count": 39
  },
  {
   "cell_type": "markdown",
   "source": [
    "### 3.3.6 定义优化算法\n",
    "小批量随机梯度下降算法是一种优化神经网络的标准工具，pytorch在optim模块中实现了该算法的许多变体。当我们实例化一个SGD实例时，我们要指定优化的参数(可通过net.parameters()从我们的模型中获得)以及优化算法所需的超参数字典。小批量随机梯度下降只需要设置lr的值，这里设置为0.03。"
   ],
   "metadata": {
    "collapsed": false
   },
   "id": "d648de4ee66ee926"
  },
  {
   "cell_type": "code",
   "outputs": [],
   "source": [
    "trainer = torch.optim.SGD(net.parameters(),lr = 0.03)"
   ],
   "metadata": {
    "collapsed": false,
    "ExecuteTime": {
     "end_time": "2024-03-28T14:18:08.734409Z",
     "start_time": "2024-03-28T14:18:08.727368Z"
    }
   },
   "id": "5ccf7370464e3ffb",
   "execution_count": 40
  },
  {
   "cell_type": "markdown",
   "source": [
    "### 3.3.7 训练\n",
    "通过深度学习框架的高级API来实现我们的模型只需要相对较少的代码。我们不必单独分配参数、不必定义我们的损失函数，也不必手动实现小批量随机梯度下降。当我们需要更新更复杂的模型时，高级API的有事讲极大显现。当我们有了所有的基本组件，训练过程的代码与我们从零开始实现时的非常相似。<br>\n",
    "回顾一下：在每轮里，我们讲完整遍历一次数据集(train_data)，不断从中获取一个小批量的输入和对应的标签。对于每个小批量，我们会执行以下步骤：<br>\n",
    "&emsp;·通过调用net(x)生成预测并计算损失l(前向传播)<br>\n",
    "&emsp;·通过进行反向传播来计算梯度<br>\n",
    "&emsp;·通过调用优化器来更新模型参数<br>\n",
    "为了更好地衡量训练效果，我们计算每个epoch后的损失，并打印它来监控训练过程。"
   ],
   "metadata": {
    "collapsed": false
   },
   "id": "d3a7909a4bd7b29"
  },
  {
   "cell_type": "code",
   "outputs": [
    {
     "name": "stdout",
     "output_type": "stream",
     "text": [
      "epoch1,loss0.000214\n",
      "epoch2,loss0.000096\n",
      "epoch3,loss0.000096\n"
     ]
    }
   ],
   "source": [
    "num_epoch = 3\n",
    "losses = []\n",
    "for epoch in range(num_epoch):\n",
    "    for X,y in data_iter:\n",
    "        l = loss(net(X),y)\n",
    "        trainer.zero_grad()\n",
    "        l.backward()\n",
    "        trainer.step()\n",
    "    l = loss(net(features),labels)\n",
    "    losses.append(l.item())\n",
    "    print(f'epoch{epoch + 1},loss{l:f}')"
   ],
   "metadata": {
    "collapsed": false,
    "ExecuteTime": {
     "end_time": "2024-03-28T14:18:08.874912Z",
     "start_time": "2024-03-28T14:18:08.755022Z"
    }
   },
   "id": "b5702a76ef02c8fb",
   "execution_count": 41
  },
  {
   "cell_type": "code",
   "outputs": [
    {
     "data": {
      "text/plain": "<Figure size 640x480 with 1 Axes>",
      "image/png": "[encoded data removed]"
     },
     "metadata": {},
     "output_type": "display_data"
    }
   ],
   "source": [
    "import matplotlib.pyplot as plt\n",
    "plt.plot(range(1,num_epoch+1),losses)\n",
    "plt.xlabel('epoch')\n",
    "plt.ylabel('loss')\n",
    "plt.show()"
   ],
   "metadata": {
    "collapsed": false,
    "ExecuteTime": {
     "end_time": "2024-03-28T14:18:08.998257Z",
     "start_time": "2024-03-28T14:18:08.877578Z"
    }
   },
   "id": "e2bc3775e7ea9c8e",
   "execution_count": 42
  },
  {
   "cell_type": "markdown",
   "source": [
    "下面我们通过比较生成的真实参数和通过训练得到的模型参数。要访问参数，我们首先从net访问所需的层，然后读取该层的权重和偏置。正如在从零开始实现中那样，我们估计得到的参数和生成数据集的真实参数非常接近。"
   ],
   "metadata": {
    "collapsed": false
   },
   "id": "c184ae2152c52b1e"
  },
  {
   "cell_type": "code",
   "outputs": [
    {
     "name": "stdout",
     "output_type": "stream",
     "text": [
      "w的误差： tensor([0.0003, 0.0002])\n",
      "b的误差： tensor([0.0005])\n"
     ]
    }
   ],
   "source": [
    "w = net[0].weight.data\n",
    "print('w的误差：',true_w - w.reshape(true_w.shape))\n",
    "b = net[0].bias.data\n",
    "print('b的误差：',true_b - b)"
   ],
   "metadata": {
    "collapsed": false,
    "ExecuteTime": {
     "end_time": "2024-03-28T14:22:02.382272Z",
     "start_time": "2024-03-28T14:22:02.374628Z"
    }
   },
   "id": "7063f9077fa7a148",
   "execution_count": 50
  },
  {
   "cell_type": "code",
   "outputs": [],
   "source": [],
   "metadata": {
    "collapsed": false,
    "ExecuteTime": {
     "end_time": "2024-03-28T14:18:09.029424Z",
     "start_time": "2024-03-28T14:18:09.014936Z"
    }
   },
   "id": "439ba72c48b446d6",
   "execution_count": 43
  }
 ],
 "metadata": {
  "kernelspec": {
   "display_name": "Python 3",
   "language": "python",
   "name": "python3"
  },
  "language_info": {
   "codemirror_mode": {
    "name": "ipython",
    "version": 2
   },
   "file_extension": ".py",
   "mimetype": "text/x-python",
   "name": "python",
   "nbconvert_exporter": "python",
   "pygments_lexer": "ipython2",
   "version": "2.7.6"
  }
 },
 "nbformat": 4,
 "nbformat_minor": 5
}
