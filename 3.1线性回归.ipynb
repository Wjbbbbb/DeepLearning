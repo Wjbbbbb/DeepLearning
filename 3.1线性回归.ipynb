{
 "cells": [
  {
   "cell_type": "markdown",
   "metadata": {},
   "source": [
    "# 3.1线性神经网络\n",
    "## 3.1.1 线性回归的基本元素\n",
    "举个例子：根据房屋的面积(平方米)和房龄(年)来估计房屋价格(元)，需要收集一个数据集，该数据集称为训练数据集(training dataset)或训练集(training set)。\n",
    "每行数据(比如一次房屋交易所对应的数据)成为数据样本(sample)，也可以称为数据点(data point)或数据实例(data instance)。\n",
    "试图预测的目标(比如预测房屋价格)称为标签(label)或目标(target)。\n",
    "预测所依据的自变量(面积和房龄)称为特征(feature)或协变量(covariate)。\n",
    "通常，我们使用n来表示数据集中的样本数。\n"
   ]
  },
  {
   "cell_type": "markdown",
   "metadata": {},
   "source": [
    "### 1.线性模型\n",
    "线性假设是指目标(房屋价格)可以表示为特征(面积和房龄)的加权和，如下式:\n",
    "<center>price=w_area*area+w_age*age+b</center>\n",
    "w_area和w_age称为权重，权重决定了每个特征对预测值的影响，b称为偏置(bias)、偏移量(offset)或截距(intercept)。\n",
    "在机器学习领域中，通常使用高维数据集，建模时用线性代数表示法会更方便。当我们的输入有d个特征时，将预测结果y^表示为：\n",
    "<center>y^=w_1*x_1+w_2*x_2+...w_d*x_2</center>\n",
    "将所有的特征放在x∈R_d中，并将所有权重放入w∈R_d中，我们可以用点积形式来简洁地表示模型\n",
    "<center>y^=w^T·x+b</center>\n",
    "虽然给定x预测y的最佳模型是线性的，但是考虑到误差带来的影响，还要加入一个噪点。\n"
   ]
  },
  {
   "cell_type": "markdown",
   "metadata": {},
   "source": [
    "### 2.损失函数\n",
    "当我们开始考虑如何用模型拟合(fitting)数据之前，我们需要确定拟合程度的度量。损失函数(loss function)能够量化目标的实际值与预测值之间的差距，通常选择非负数作为损失。\n",
    "回归问题中最常用的损失函数是平方误差函数。当样本i预测值为y^_i，其相应的真实标签为y_i时，平方误差可以定义为以下公式：\n",
    "<center>l_i(w,b)=1/2(y^_i-y_i)^2 (常数1/2是为了方便求导)</center>\n",
    "由于平方误差函数中的二次方项，估计值y^_i和观测值y_i之间较大的差距将导致更大的损失。为了度量模型在整个数据集上的预测质量，需要计算在训练集n个样本上的损失均值(等价于求和)：\n",
    "<center>L(w,b)=1/n l_i(w,b)</center>\n",
    "\n",
    "\n"
   ]
  },
  {
   "cell_type": "code",
   "execution_count": null,
   "metadata": {},
   "outputs": [],
   "source": []
  }
 ],
 "metadata": {
  "language_info": {
   "name": "python"
  }
 },
 "nbformat": 4,
 "nbformat_minor": 2
}
